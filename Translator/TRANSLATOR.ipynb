{
 "cells": [
  {
   "cell_type": "code",
   "execution_count": 1,
   "id": "29cdd432",
   "metadata": {},
   "outputs": [],
   "source": [
    "from deep_translator import GoogleTranslator"
   ]
  },
  {
   "cell_type": "code",
   "execution_count": 2,
   "id": "ccc1c640",
   "metadata": {},
   "outputs": [
    {
     "data": {
      "text/plain": [
       "'नमस्ते मैं भारत से हूँ'"
      ]
     },
     "execution_count": 2,
     "metadata": {},
     "output_type": "execute_result"
    }
   ],
   "source": [
    "#Hindi\n",
    "GoogleTranslator(source='auto',target='hi').translate(\"HI IM FROM INDIA\")"
   ]
  },
  {
   "cell_type": "code",
   "execution_count": 3,
   "id": "eab7c7fe",
   "metadata": {},
   "outputs": [
    {
     "data": {
      "text/plain": [
       "'இந்தியாவிலிருந்து வணக்கம்'"
      ]
     },
     "execution_count": 3,
     "metadata": {},
     "output_type": "execute_result"
    }
   ],
   "source": [
    "#Tamil\n",
    "GoogleTranslator(source='auto',target='ta').translate(\"HI IM FROM INDIA\")"
   ]
  },
  {
   "cell_type": "code",
   "execution_count": 4,
   "id": "44636c5c",
   "metadata": {},
   "outputs": [
    {
     "data": {
      "text/plain": [
       "'భారతదేశం నుండి హాయ్'"
      ]
     },
     "execution_count": 4,
     "metadata": {},
     "output_type": "execute_result"
    }
   ],
   "source": [
    "#Telugu\n",
    "GoogleTranslator(source='auto',target='te').translate(\"HI IM FROM INDIA\")"
   ]
  },
  {
   "cell_type": "code",
   "execution_count": 6,
   "id": "10fc1118",
   "metadata": {},
   "outputs": [
    {
     "data": {
      "text/plain": [
       "'مرحبًا IM من الهند'"
      ]
     },
     "execution_count": 6,
     "metadata": {},
     "output_type": "execute_result"
    }
   ],
   "source": [
    "#urdu\n",
    "GoogleTranslator(source='auto',target='ur').translate(\"HI IM FROM INDIA\")"
   ]
  },
  {
   "cell_type": "code",
   "execution_count": 10,
   "id": "3076960f",
   "metadata": {},
   "outputs": [
    {
     "data": {
      "text/plain": [
       "\"Bonjour, je viens d'Inde\""
      ]
     },
     "execution_count": 10,
     "metadata": {},
     "output_type": "execute_result"
    }
   ],
   "source": [
    "#French\n",
    "GoogleTranslator(source='auto',target='fr').translate(\"Hello I am FROM INDIA\")"
   ]
  },
  {
   "cell_type": "code",
   "execution_count": null,
   "id": "ba1b57b5",
   "metadata": {},
   "outputs": [],
   "source": []
  }
 ],
 "metadata": {
  "kernelspec": {
   "display_name": "Python 3 (ipykernel)",
   "language": "python",
   "name": "python3"
  },
  "language_info": {
   "codemirror_mode": {
    "name": "ipython",
    "version": 3
   },
   "file_extension": ".py",
   "mimetype": "text/x-python",
   "name": "python",
   "nbconvert_exporter": "python",
   "pygments_lexer": "ipython3",
   "version": "3.9.12"
  }
 },
 "nbformat": 4,
 "nbformat_minor": 5
}
